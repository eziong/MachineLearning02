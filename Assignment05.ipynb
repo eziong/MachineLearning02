{
  "nbformat": 4,
  "nbformat_minor": 0,
  "metadata": {
    "colab": {
      "name": "Assignment05.ipynb",
      "provenance": [],
      "collapsed_sections": [],
      "mount_file_id": "1vYXDvrXloU6dZ3hpa5CPFc4sVeQyh41N",
      "authorship_tag": "ABX9TyMeVlnXr0xv6WBR50GpJf5Q",
      "include_colab_link": true
    },
    "kernelspec": {
      "name": "python3",
      "display_name": "Python 3"
    }
  },
  "cells": [
    {
      "cell_type": "markdown",
      "metadata": {
        "id": "view-in-github",
        "colab_type": "text"
      },
      "source": [
        "<a href=\"https://colab.research.google.com/github/eziong/MachineLearning02/blob/master/Assignment05.ipynb\" target=\"_parent\"><img src=\"https://colab.research.google.com/assets/colab-badge.svg\" alt=\"Open In Colab\"/></a>"
      ]
    },
    {
      "cell_type": "code",
      "metadata": {
        "id": "0CszbPdqTg35",
        "colab_type": "code",
        "colab": {
          "base_uri": "https://localhost:8080/",
          "height": 265
        },
        "outputId": "2403dca9-d7b9-4ecb-8408-17e446b184f1"
      },
      "source": [
        "import numpy as np\n",
        "import matplotlib.pyplot as plt\n",
        "\n",
        "data = np.genfromtxt('data.txt', delimiter=',')\n",
        "\n",
        "x       = data[:, 0]\n",
        "y       = data[:, 1]\n",
        "label   = data[:, 2]\n",
        "\n",
        "x_label0    = x[label == 0]\n",
        "x_label1    = x[label == 1]\n",
        "\n",
        "y_label0    = y[label == 0]\n",
        "y_label1    = y[label == 1]\n",
        "\n",
        "def z(theta,X):\n",
        "  res = []\n",
        "  X_t = np.transpose(X)\n",
        "  for x in X_t:\n",
        "    zi = x[0] * theta[0] + x[1] * theta[1] + x[2] * theta[2]\n",
        "    res.append(zi)\n",
        "  return res\n",
        "\n",
        "def sigma(z):\n",
        "  return 1/(1+np.exp(-z))\n",
        "\n",
        "def J(l,z):\n",
        "  sum = 0\n",
        "  for i in range(len(z)):\n",
        "    sum = sum + l[i]*(-np.log(sigma(z[i])))+(1-l[i])*(-np.log(1-sigma(z[i])))\n",
        "  return sum\n",
        "\n",
        "def J_prime(z,l,xi):\n",
        "  return (sigma(z)-l)*xi\n",
        "\n",
        "def w(z,l,xi):\n",
        "  return J_prime(z,l,xi)\n",
        "\n",
        "learning_rate = 1e-6\n",
        "\n",
        "theta_0 = 0 # -247.2에서 수렴\n",
        "theta_1 = 0\n",
        "theta_2 = 0\n",
        "\n",
        "arr_t0 = []\n",
        "arr_t1 = []\n",
        "arr_t2 = []\n",
        "\n",
        "arr_J = []\n",
        "\n",
        "X = [np.ones(len(x)),x,y]\n",
        "\n",
        "for _ in range(1000):\n",
        "  theta = [theta_0,theta_1,theta_2]\n",
        "  zet = z(theta,X)\n",
        "  l = label\n",
        "  arr_t0.append(theta_0)\n",
        "  arr_t1.append(theta_1)\n",
        "  arr_t2.append(theta_2)\n",
        "  J_0 = 0\n",
        "  J_1 = 0\n",
        "  J_2 = 0\n",
        "  for i in range(len(zet)):\n",
        "    theta_0 = theta_0 - learning_rate*w(zet[i],l[i],X[0][i])\n",
        "    theta_1 = theta_1 - learning_rate*w(zet[i],l[i],X[1][i])\n",
        "    theta_2 = theta_2 - learning_rate*w(zet[i],l[i],X[2][i])\n",
        "  arr_J.append(J(l,zet))\n",
        "\n",
        "\n",
        "plt.plot(arr_J)\n",
        "plt.show()\n",
        "\n",
        "#plt.plot(arr_t0,color='r')\n",
        "#plt.plot(arr_t1,color='g')\n",
        "#plt.plot(arr_t2,color='b')\n",
        "#plt.show()"
      ],
      "execution_count": 118,
      "outputs": [
        {
          "output_type": "display_data",
          "data": {
            "image/png": "[encoded data removed]",
            "text/plain": [
              "<Figure size 432x288 with 1 Axes>"
            ]
          },
          "metadata": {
            "tags": [],
            "needs_background": "light"
          }
        }
      ]
    }
  ]
}