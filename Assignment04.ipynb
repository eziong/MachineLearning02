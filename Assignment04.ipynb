{
  "nbformat": 4,
  "nbformat_minor": 0,
  "metadata": {
    "colab": {
      "name": "Assignment04.ipynb",
      "provenance": [],
      "collapsed_sections": [],
      "authorship_tag": "ABX9TyPTIT5iKv2+fIKVPZAaFDxs",
      "include_colab_link": true
    },
    "kernelspec": {
      "name": "python3",
      "display_name": "Python 3"
    }
  },
  "cells": [
    {
      "cell_type": "markdown",
      "metadata": {
        "id": "view-in-github",
        "colab_type": "text"
      },
      "source": [
        "<a href=\"https://colab.research.google.com/github/eziong/MachineLearning02/blob/master/Assignment04.ipynb\" target=\"_parent\"><img src=\"https://colab.research.google.com/assets/colab-badge.svg\" alt=\"Open In Colab\"/></a>"
      ]
    },
    {
      "cell_type": "code",
      "metadata": {
        "id": "K9RjJaOXLBrW",
        "colab_type": "code",
        "colab": {
          "base_uri": "https://localhost:8080/",
          "height": 798
        },
        "outputId": "1a150b0e-b151-47f4-8a61-4b2cfb070516"
      },
      "source": [
        "import numpy as np\n",
        "import matplotlib.pyplot as plt\n",
        "from google.colab import drive\n",
        "import csv\n",
        "drive.mount('gdrive')\n",
        "\n",
        "test_path = \"/content/gdrive/My Drive/Colab Notebooks/Assignment04/data_test.csv\"\n",
        "train_path = \"/content/gdrive/My Drive/Colab Notebooks/Assignment04/data_train.csv\"\n",
        "\n",
        "x_test_data = []\n",
        "y_test_data = []\n",
        "z_test_data = []\n",
        "h_test_data = []\n",
        "\n",
        "x_train_data = []\n",
        "y_train_data = []\n",
        "z_train_data = []\n",
        "h_train_data = []\n",
        "\n",
        "\n",
        "with open(test_path, newline='') as myfile:\n",
        "    test_data  = csv.reader(myfile, delimiter=',')\n",
        "    for i in test_data:\n",
        "      x_test_data.append(float(i[0]))\n",
        "      y_test_data.append(float(i[1]))\n",
        "      z_test_data.append(float(i[2]))\n",
        "      h_test_data.append(float(i[3]))\n",
        "\n",
        "with open(train_path, newline='') as myfile:\n",
        "    train_data  = csv.reader(myfile, delimiter=',') \n",
        "    for i in train_data:\n",
        "      x_train_data.append(float(i[0]))\n",
        "      y_train_data.append(float(i[1]))\n",
        "      z_train_data.append(float(i[2]))\n",
        "      h_train_data.append(float(i[3]))\n",
        "\n",
        "\n",
        "###\n",
        "# Assignment03로부터 불러옴\n",
        "# learning_rate 수정\n",
        "###\n",
        "\n",
        "learning_rate = 2*1e-5 # 학습률\n",
        "\n",
        "errors0 = [] # 경사하강법에서 기울기 변화율에 비례하는 값을 저장\n",
        "errors1 = [] # while문(learning loop) 종료조건으로 활용\n",
        "errors2 = [] # 최근 두 개의 errors값을 비교 후 종료\n",
        "errors3 = []\n",
        "\n",
        "theta0 = 0 # theta0 생성\n",
        "theta1 = 1 # theta1 생성\n",
        "theta2 = 2 # theta2 생성\n",
        "theta3 = 3 # theta3 생성\n",
        "\n",
        "R_theta0 = []\n",
        "R_theta1 = []\n",
        "R_theta2 = []\n",
        "R_theta3 = []\n",
        "R_J_train = []\n",
        "R_J_test = []\n",
        "\n",
        "\n",
        "j=0\n",
        "# Learning loop\n",
        "while True:\n",
        "  R_theta0.append(theta0)\n",
        "  R_theta1.append(theta1)\n",
        "  R_theta2.append(theta2)\n",
        "  R_theta3.append(theta3)\n",
        "  tmp0=0 # theta0의 값에 직접 저장하기 전에 임시 저장, 목적함수의 미분값\n",
        "  tmp1=0 # theta1의 값에 직접 저장하기 전에 임시 저장, 목적함수의 미분값\n",
        "  tmp2=0 # theta2의 값에 직접 저장하기 전에 임시 저장, 목적함수의 미분값\n",
        "  tmp3=0 # theta3의 값에 직접 저장하기 전에 임시 저장, 목적함수의 미분값\n",
        "\n",
        "  j+=1\n",
        "  # 경사하강법 Loop, 목적함수의 미분값 계산 \n",
        "  for i in range(len(x_train_data)):\n",
        "    tmp0+=learning_rate*(theta0+theta1*x_train_data[i]+theta2*y_train_data[i]+theta3*z_train_data[i]-h_train_data[i])/len(x_train_data)\n",
        "    tmp1+=learning_rate*x_train_data[i]*(theta0+theta1*x_train_data[i]+theta2*y_train_data[i]+theta3*z_train_data[i]-h_train_data[i])/len(x_train_data)\n",
        "    tmp2+=learning_rate*y_train_data[i]*(theta0+theta1*x_train_data[i]+theta2*y_train_data[i]+theta3*z_train_data[i]-h_train_data[i])/len(x_train_data)\n",
        "    tmp3+=learning_rate*z_train_data[i]*(theta0+theta1*x_train_data[i]+theta2*y_train_data[i]+theta3*z_train_data[i]-h_train_data[i])/len(x_train_data)\n",
        "\n",
        "  # 계산된 목적함수의 미분값을 theta0과 theta1에 대입\n",
        "  theta0-=tmp0\n",
        "  theta1-=tmp1\n",
        "  theta2-=tmp2\n",
        "  theta3-=tmp3\n",
        "  \n",
        "  latest = len(R_theta0) - 1\n",
        "\n",
        "  J_train = 0\n",
        "  J_test = 0\n",
        "  for i in range(len(x_train_data)):\n",
        "    J_train += (theta0 + theta1 * x_train_data[i] + theta2 * y_train_data[i] + theta3 * z_train_data[i] - h_train_data[i]) ** 2\n",
        "    J_test += (theta0 + theta1 * x_test_data[i] + theta2 * y_test_data[i] + theta3 * z_test_data[i] - h_test_data[i]) ** 2\n",
        "  J_train /= (2*len(x_train_data))\n",
        "  J_test /= (2*len(x_test_data))\n",
        "  R_J_train.append(J_train)\n",
        "  R_J_test.append(J_test)  \n",
        "\n",
        "  if(j==1000):\n",
        "    break;\n",
        "\n",
        "\n",
        "plt.figure()\n",
        "plt.plot(R_theta0,color='k')\n",
        "plt.plot(R_theta1,color='r')\n",
        "plt.plot(R_theta2,color='g')\n",
        "plt.plot(R_theta3,color='b')\n",
        "plt.show()\n",
        "\n",
        "plt.figure()\n",
        "plt.plot(R_J_train, color='b')\n",
        "plt.show()\n",
        "\n",
        "plt.figure()\n",
        "plt.plot(R_J_test, color='r')\n",
        "plt.show()\n",
        "\n"
      ],
      "execution_count": 157,
      "outputs": [
        {
          "output_type": "stream",
          "text": [
            "Drive already mounted at gdrive; to attempt to forcibly remount, call drive.mount(\"gdrive\", force_remount=True).\n"
          ],
          "name": "stdout"
        },
        {
          "output_type": "display_data",
          "data": {
            "image/png": "[encoded data removed]",
            "text/plain": [
              "<Figure size 432x288 with 1 Axes>"
            ]
          },
          "metadata": {
            "tags": [],
            "needs_background": "light"
          }
        },
        {
          "output_type": "display_data",
          "data": {
            "image/png": "[encoded data removed]",
            "text/plain": [
              "<Figure size 432x288 with 1 Axes>"
            ]
          },
          "metadata": {
            "tags": [],
            "needs_background": "light"
          }
        },
        {
          "output_type": "display_data",
          "data": {
            "image/png": "[encoded data removed]",
            "text/plain": [
              "<Figure size 432x288 with 1 Axes>"
            ]
          },
          "metadata": {
            "tags": [],
            "needs_background": "light"
          }
        }
      ]
    }
  ]
}