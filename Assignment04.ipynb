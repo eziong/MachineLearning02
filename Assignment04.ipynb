{
  "nbformat": 4,
  "nbformat_minor": 0,
  "metadata": {
    "colab": {
      "name": "Assignment04.ipynb",
      "provenance": [],
      "collapsed_sections": [],
      "authorship_tag": "ABX9TyNVn3vxHaCPbEz1QkJ06iRM",
      "include_colab_link": true
    },
    "kernelspec": {
      "name": "python3",
      "display_name": "Python 3"
    }
  },
  "cells": [
    {
      "cell_type": "markdown",
      "metadata": {
        "id": "view-in-github",
        "colab_type": "text"
      },
      "source": [
        "<a href=\"https://colab.research.google.com/github/eziong/MachineLearning02/blob/master/Assignment04.ipynb\" target=\"_parent\"><img src=\"https://colab.research.google.com/assets/colab-badge.svg\" alt=\"Open In Colab\"/></a>"
      ]
    },
    {
      "cell_type": "code",
      "metadata": {
        "id": "K9RjJaOXLBrW",
        "colab_type": "code",
        "colab": {
          "base_uri": "https://localhost:8080/",
          "height": 302
        },
        "outputId": "4064b224-d206-4979-9840-e99acdbd96cc"
      },
      "source": [
        "import numpy as np\n",
        "import matplotlib.pyplot as plt\n",
        "from google.colab import drive\n",
        "import csv\n",
        "drive.mount('gdrive')\n",
        "\n",
        "test_path = \"/content/gdrive/My Drive/Colab Notebooks/Assignment04/data_test.csv\"\n",
        "train_path = \"/content/gdrive/My Drive/Colab Notebooks/Assignment04/data_train.csv\"\n",
        "\n",
        "x_test_data = []\n",
        "y_test_data = []\n",
        "z_test_data = []\n",
        "h_test_data = []\n",
        "\n",
        "x_train_data = []\n",
        "y_train_data = []\n",
        "z_train_data = []\n",
        "h_train_data = []\n",
        "\n",
        "\n",
        "with open(test_path, newline='') as myfile:\n",
        "    test_data  = csv.reader(myfile, delimiter=',')\n",
        "    for i in test_data:\n",
        "      x_test_data.append(float(i[0]))\n",
        "      y_test_data.append(float(i[1]))\n",
        "      z_test_data.append(float(i[2]))\n",
        "      h_test_data.append(float(i[3]))\n",
        "\n",
        "with open(train_path, newline='') as myfile:\n",
        "    train_data  = csv.reader(myfile, delimiter=',') \n",
        "    for i in train_data:\n",
        "      x_train_data.append(float(i[0]))\n",
        "      y_train_data.append(float(i[1]))\n",
        "      z_train_data.append(float(i[2]))\n",
        "      h_train_data.append(float(i[3]))\n",
        "\n",
        "\n",
        "###\n",
        "# Assignment03로부터 불러옴\n",
        "# learning_rate 수정\n",
        "###\n",
        "\n",
        "learning_rate = 2 * 1e-5 # 학습률\n",
        "\n",
        "errors0 = [] # 경사하강법에서 기울기 변화율에 비례하는 값을 저장\n",
        "errors1 = [] # while문(learning loop) 종료조건으로 활용\n",
        "errors2 = [] # 최근 두 개의 errors값을 비교 후 종료\n",
        "errors3 = []\n",
        "\n",
        "theta0 = -1.5 # theta0 생성\n",
        "theta1 = 0 # theta1 생성\n",
        "theta2 = -1 # theta2 생성\n",
        "theta3 = 2 # theta3 생성\n",
        "\n",
        "#etheta0 = np.arange(-30,30,0.1)\n",
        "#etheta1 = np.arange(-30,30,0.1)\n",
        "#Etheta0,Etheta1 = np.meshgrid(etheta0,etheta1)\n",
        "\n",
        "\n",
        "\n",
        "R_theta0 = []\n",
        "R_theta1 = []\n",
        "R_theta2 = []\n",
        "R_theta3 = []\n",
        "R_J = []\n",
        "\n",
        "#print(\"|   %.4d   | %f | %f | %f | %f |\"%(len(R_theta0),theta0,theta1,theta2,theta3))\n",
        "\n",
        "# Learning loop\n",
        "while True:\n",
        "  R_theta0.append(theta0)\n",
        "  R_theta1.append(theta1)\n",
        "  R_theta2.append(theta2)\n",
        "  R_theta3.append(theta3)\n",
        "  tmp0=0 # theta0의 값에 직접 저장하기 전에 임시 저장, 목적함수의 미분값\n",
        "  tmp1=0 # theta1의 값에 직접 저장하기 전에 임시 저장, 목적함수의 미분값\n",
        "  tmp2=0 # theta2의 값에 직접 저장하기 전에 임시 저장, 목적함수의 미분값\n",
        "  tmp3=0 # theta3의 값에 직접 저장하기 전에 임시 저장, 목적함수의 미분값\n",
        "  j=0\n",
        "\n",
        "  # 경사하강법 Loop, 목적함수의 미분값 계산 \n",
        "  for i in range(len(x_train_data)):\n",
        "    tmp0+=learning_rate*(theta0+theta1*x_train_data[i]+theta2*y_train_data[i]+theta3*z_train_data[i]-h_train_data[i])/len(x_train_data)\n",
        "    tmp1+=learning_rate*x_train_data[i]*(theta0+theta1*x_train_data[i]+theta2*y_train_data[i]+theta3*z_train_data[i]-h_train_data[i])/len(x_train_data)\n",
        "    tmp2+=learning_rate*y_train_data[i]*(theta0+theta1*x_train_data[i]+theta2*y_train_data[i]+theta3*z_train_data[i]-h_train_data[i])/len(x_train_data)\n",
        "    tmp3+=learning_rate*z_train_data[i]*(theta0+theta1*x_train_data[i]+theta2*y_train_data[i]+theta3*z_train_data[i]-h_train_data[i])/len(x_train_data)\n",
        "\n",
        "  # 계산된 목적함수의 미분값을 theta0과 theta1에 대입\n",
        "  theta0-=tmp0\n",
        "  theta1-=tmp1\n",
        "  theta2-=tmp2\n",
        "  theta3-=tmp3\n",
        "  \n",
        "  latest = len(R_theta0) - 1\n",
        "\n",
        "  # 최근 두 개의 errors0 또는 errors1의 값이 반올림해서 같으면 충분히 학습된 것으로 판단 => Loop 종료\n",
        "  if(latest>2 and ((round(R_theta0[latest],6)==round(R_theta0[latest-1],6))and(round(R_theta1[latest],6)==round(R_theta1[latest-1],6))and(round(R_theta2[latest],6)==round(R_theta2[latest-1],6))and(round(R_theta3[latest],6)==round(R_theta3[latest-1],6)))):\n",
        "    break;\n",
        "  # Loop가 진행중이라면 현재 learning 횟수와 각각의 theta 값을 출력, 해당 값의 직선(plt.show())\n",
        "  #else:\n",
        "    #print(\"|   %.4d   | %f | %f | %f | %f |\"%(len(R_theta0),theta0,theta1,theta2,theta3))\n",
        "\n",
        "plt.figure()\n",
        "plt.plot(R_theta0,color='k')\n",
        "plt.plot(R_theta1,color='r')\n",
        "plt.plot(R_theta2,color='g')\n",
        "plt.plot(R_theta3,color='b')\n",
        "plt.show()\n",
        "\n",
        "\n",
        "# Learning Loop를 끝내고 나온 결과\n",
        "#y = theta0 +theta1*x_data\n",
        "#J=0\n",
        "\n",
        "#for i in range(len(x_data)):\n",
        "  #J += (Etheta0 + Etheta1 * x_data[i] - y_data[i]) ** 2\n",
        "#J /= (2*len(x_data))\n",
        "\n",
        "\n",
        "#for a,b in zip(R_theta0,R_theta1):\n",
        "#  rj=0\n",
        "#  for i in range(len(x_data)):\n",
        "#    rj += (a + b * x_data[i] - y_data[i]) ** 2\n",
        "#  rj /= (2*len(x_data))\n",
        "#  R_J.append(rj)\n"
      ],
      "execution_count": 52,
      "outputs": [
        {
          "output_type": "stream",
          "text": [
            "Drive already mounted at gdrive; to attempt to forcibly remount, call drive.mount(\"gdrive\", force_remount=True).\n"
          ],
          "name": "stdout"
        },
        {
          "output_type": "display_data",
          "data": {
            "image/png": "[encoded data removed]",
            "text/plain": [
              "<Figure size 432x288 with 1 Axes>"
            ]
          },
          "metadata": {
            "tags": [],
            "needs_background": "light"
          }
        }
      ]
    }
  ]
}