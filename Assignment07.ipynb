{
  "nbformat": 4,
  "nbformat_minor": 0,
  "metadata": {
    "colab": {
      "name": "Assignment07",
      "provenance": [],
      "authorship_tag": "ABX9TyPasJsX7xZgPoFy9h2mF1kA",
      "include_colab_link": true
    },
    "kernelspec": {
      "name": "python3",
      "display_name": "Python 3"
    }
  },
  "cells": [
    {
      "cell_type": "markdown",
      "metadata": {
        "id": "view-in-github",
        "colab_type": "text"
      },
      "source": [
        "<a href=\"https://colab.research.google.com/github/eziong/MachineLearning02/blob/master/Assignment07.ipynb\" target=\"_parent\"><img src=\"https://colab.research.google.com/assets/colab-badge.svg\" alt=\"Open In Colab\"/></a>"
      ]
    },
    {
      "cell_type": "code",
      "metadata": {
        "id": "H-xFcQqeV_0A",
        "colab_type": "code",
        "colab": {
          "base_uri": "https://localhost:8080/",
          "height": 1000
        },
        "outputId": "348a34b2-d11b-4a40-9767-82f460f9f9d6"
      },
      "source": [
        "import numpy as np\n",
        "import matplotlib.pyplot as plt\n",
        "\n",
        "data = np.genfromtxt('data-nonlinear.txt', delimiter=',')\n",
        "\n",
        "pointX  = data[:, 0]\n",
        "pointY  = data[:, 1]\n",
        "label   = data[:, 2]\n",
        "\n",
        "pointX0 = pointX[label == 0]\n",
        "pointY0 = pointY[label == 0]\n",
        "\n",
        "pointX1 = pointX[label == 1]\n",
        "pointY1 = pointY[label == 1]\n",
        "\n",
        "\n",
        "### Definitions of z, sigma, objective function, weight, high dimensional function\n",
        "def z(theta,X):\n",
        "  return g(theta,X)\n",
        "\n",
        "def g(theta, X):\n",
        "  z = 0\n",
        "  for i in range(len(X)):\n",
        "    z = z + theta[i]*X[i]\n",
        "  return z\n",
        "\n",
        "def sigma(z):\n",
        "  return 1/(1+np.exp(-z))\n",
        "\n",
        "def J(l,z,R):\n",
        "  sum = 0\n",
        "  for i in range(len(l)):\n",
        "    sum = sum + l[i]*(-np.log(sigma(z[i])))+(1-l[i])*(-np.log(1-sigma(z[i])))\n",
        "  return sum + R\n",
        "\n",
        "def J_prime(_z,_l,_xi):\n",
        "    return (sigma(_z)-_l)*_xi\n",
        "\n",
        "\n",
        "def GD_algoritm(theta,z,l,X,alpha,Lambda):\n",
        "  for i in range(len(l)):\n",
        "    for j in range(len(X)):\n",
        "      theta[j] = (1-alpha*Lambda)*theta[j] - alpha*w(z[i],l[i],X[j][i])\n",
        "  return theta\n",
        "\n",
        "def make_X(X):\n",
        "  ret = []\n",
        "  for i in range(10):\n",
        "    for j in range(10):\n",
        "      ret.append((X[0]**i)*(X[1]**j))\n",
        "  return ret\n",
        "\n",
        "def make_theta(X):\n",
        "  ret = []\n",
        "  for i in range(len(X)):\n",
        "    ret.append(0)\n",
        "  return ret\n",
        "\n",
        "def w(z,l,xi):\n",
        "  return J_prime(z,l,xi)\n",
        "\n",
        "def accuracy_cal(z,l):\n",
        "  res = 0\n",
        "  for i in range(len(z)):\n",
        "    if (sigma(z[i]) >=1/2 and l[i]==1) or (sigma(z[i]) <1/2 and l[i]==0):\n",
        "      res = res + 1\n",
        "  return res\n",
        "\n",
        "def Regularization(Lambda,theta):\n",
        "  sum = 0\n",
        "  for theta_i in theta:\n",
        "    sum = sum + theta_i\n",
        "  return sum*Lambda/2\n",
        "\n",
        "### Basic Settings\n",
        "R_X = [pointX,pointY]\n",
        "X = make_X(R_X)\n",
        "l=label\n",
        "theta = make_theta(X)\n",
        "err_J = []\n",
        "alpha = 5*1e-3 #learning rate\n",
        "accuracy = []\n",
        "Lambda = 0\n",
        "\n",
        "### Plot the training error\n",
        "## iteration of gradient decent until convergence\n",
        "for _ in range(1000):\n",
        "  R = Regularization(Lambda,theta)\n",
        "  zet = z(theta,X)\n",
        "  J_val = J(l,zet,R)\n",
        "  err_J.append(J_val)\n",
        "  accuracy_val = accuracy_cal(zet,l) / len(l) * 100\n",
        "  accuracy.append(accuracy_val)\n",
        "  theta = GD_algoritm(theta,zet,l,X,alpha,Lambda)\n",
        "\n",
        "print(\"222222222222222222\")\n",
        "\n",
        "def f(x,y):\n",
        "  sum = 0\n",
        "  rx = [x,y]\n",
        "  tx = make_X(rx)\n",
        "  for i in range(len(tx)):\n",
        "    sum = sum + theta[i]*tx[i]\n",
        "  return sigma(sum)\n",
        "\n",
        "print(\"3333333333333333333333\")\n",
        "\n",
        "xx = np.linspace(-1,1,1000)\n",
        "yy = np.linspace(-1,1,1000)\n",
        "x_mesh,y_mesh = np.meshgrid(xx,yy)\n",
        "zz = f(x_mesh,y_mesh)\n",
        "\n",
        "print(\"44444444444444444444444\")\n",
        "\n",
        "#Plot the training data\n",
        "print(\"#Plot the training data\")\n",
        "plt.figure()\n",
        "plt.scatter(pointX0, pointY0, c='b')\n",
        "plt.scatter(pointX1, pointY1, c='r')\n",
        "plt.tight_layout()\n",
        "plt.gca().set_aspect('equal', adjustable='box')\n",
        "plt.show()\n",
        "\n",
        "print(\"5555555555555555555555555\")\n",
        "\n",
        "#Plot the training error\n",
        "print(\"#Plot the training error\")\n",
        "plt.plot(err_J,color='b')\n",
        "plt.show()\n",
        "\n",
        "#Plot the training accuracy\n",
        "print(\"#Plot the training accuracy\")\n",
        "plt.plot(accuracy,color='r')\n",
        "plt.show()\n",
        "\n",
        "#Write down the final training accuracy\n",
        "print(\"#Write down the final training accuracy\")\n",
        "print(accuracy[len(accuracy)-1] , \" % accuracy\")\n",
        "\n",
        "#Plot the optimal classifier superimposed on the training data\n",
        "print(\"#Plot the optimal classifier superimposed on the training data\")\n",
        "plt.figure()\n",
        "plt.scatter(pointX0, pointY0, c='b')\n",
        "plt.scatter(pointX1, pointY1, c='r')\n",
        "plt.tight_layout()\n",
        "plt.contour(x_mesh,y_mesh,np.round(zz,2)==0.5,colors='k',linewidth=.5)\n",
        "plt.show()"
      ],
      "execution_count": 10,
      "outputs": [
        {
          "output_type": "stream",
          "text": [
            "222222222222222222\n",
            "3333333333333333333333\n",
            "44444444444444444444444\n",
            "#Plot the training data\n"
          ],
          "name": "stdout"
        },
        {
          "output_type": "display_data",
          "data": {
            "image/png": "[encoded data removed]",
            "text/plain": [
              "<Figure size 432x288 with 1 Axes>"
            ]
          },
          "metadata": {
            "tags": [],
            "needs_background": "light"
          }
        },
        {
          "output_type": "stream",
          "text": [
            "5555555555555555555555555\n",
            "#Plot the training error\n"
          ],
          "name": "stdout"
        },
        {
          "output_type": "display_data",
          "data": {
            "image/png": "[encoded data removed]",
            "text/plain": [
              "<Figure size 432x288 with 1 Axes>"
            ]
          },
          "metadata": {
            "tags": [],
            "needs_background": "light"
          }
        },
        {
          "output_type": "stream",
          "text": [
            "#Plot the training accuracy\n"
          ],
          "name": "stdout"
        },
        {
          "output_type": "display_data",
          "data": {
            "image/png": "[encoded data removed]",
            "text/plain": [
              "<Figure size 432x288 with 1 Axes>"
            ]
          },
          "metadata": {
            "tags": [],
            "needs_background": "light"
          }
        },
        {
          "output_type": "stream",
          "text": [
            "#Write down the final training accuracy\n",
            "82.20338983050848  % accuracy\n",
            "#Plot the optimal classifier superimposed on the training data\n"
          ],
          "name": "stdout"
        },
        {
          "output_type": "stream",
          "text": [
            "/usr/local/lib/python3.6/dist-packages/ipykernel_launcher.py:146: UserWarning: The following kwargs were not used by contour: 'linewidth'\n"
          ],
          "name": "stderr"
        },
        {
          "output_type": "display_data",
          "data": {
            "image/png": "[encoded data removed]",
            "text/plain": [
              "<Figure size 432x288 with 1 Axes>"
            ]
          },
          "metadata": {
            "tags": [],
            "needs_background": "light"
          }
        }
      ]
    }
  ]
}